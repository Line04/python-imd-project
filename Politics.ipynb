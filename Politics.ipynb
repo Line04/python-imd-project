{
  "nbformat": 4,
  "nbformat_minor": 0,
  "metadata": {
    "colab": {
      "name": "Politics.ipynb",
      "provenance": [],
      "collapsed_sections": [],
      "authorship_tag": "ABX9TyNUhcn4VIB+PKxmUyTNn9KC",
      "include_colab_link": true
    },
    "kernelspec": {
      "name": "python3",
      "display_name": "Python 3"
    }
  },
  "cells": [
    {
      "cell_type": "markdown",
      "metadata": {
        "id": "view-in-github",
        "colab_type": "text"
      },
      "source": [
        "<a href=\"https://colab.research.google.com/github/lhayana/python-imd-project/blob/master/Politics.ipynb\" target=\"_parent\"><img src=\"https://colab.research.google.com/assets/colab-badge.svg\" alt=\"Open In Colab\"/></a>"
      ]
    },
    {
      "cell_type": "code",
      "metadata": {
        "id": "wee5x22qssU-",
        "colab_type": "code",
        "colab": {
          "base_uri": "https://localhost:8080/",
          "height": 71
        },
        "outputId": "2e3c1e7e-7c2b-4ce6-cf28-c03f07b98ac2"
      },
      "source": [
        "#importando bibliotecas\n",
        "\n",
        "import pandas as pd\n",
        "import numpy as np\n",
        "import matplotlib.pyplot as plt\n",
        "import seaborn as sns"
      ],
      "execution_count": 4,
      "outputs": [
        {
          "output_type": "stream",
          "text": [
            "/usr/local/lib/python3.6/dist-packages/statsmodels/tools/_testing.py:19: FutureWarning: pandas.util.testing is deprecated. Use the functions in the public API at pandas.testing instead.\n",
            "  import pandas.util.testing as tm\n"
          ],
          "name": "stderr"
        }
      ]
    },
    {
      "cell_type": "code",
      "metadata": {
        "id": "K0EaCtjX66-r",
        "colab_type": "code",
        "outputId": "aa80f0d5-a4ac-4aed-b5ca-2f41c936baf1",
        "colab": {
          "base_uri": "https://localhost:8080/",
          "height": 359
        }
      },
      "source": [
        "#importando csv\n",
        "news = pd.read_csv(\"/content/brazil-2018.csv\", sep=';', header=[0]) \n",
        "#lendo as 10 primeiras linhas\n",
        "news.head(10)"
      ],
      "execution_count": 5,
      "outputs": [
        {
          "output_type": "execute_result",
          "data": {
            "text/html": [
              "<div>\n",
              "<style scoped>\n",
              "    .dataframe tbody tr th:only-of-type {\n",
              "        vertical-align: middle;\n",
              "    }\n",
              "\n",
              "    .dataframe tbody tr th {\n",
              "        vertical-align: top;\n",
              "    }\n",
              "\n",
              "    .dataframe thead th {\n",
              "        text-align: right;\n",
              "    }\n",
              "</style>\n",
              "<table border=\"1\" class=\"dataframe\">\n",
              "  <thead>\n",
              "    <tr style=\"text-align: right;\">\n",
              "      <th></th>\n",
              "      <th>id</th>\n",
              "      <th>texto</th>\n",
              "      <th>rotulo</th>\n",
              "      <th>fonte</th>\n",
              "    </tr>\n",
              "  </thead>\n",
              "  <tbody>\n",
              "    <tr>\n",
              "      <th>0</th>\n",
              "      <td>1</td>\n",
              "      <td>Salário Mínimo: R$ 950,00. Bolsa Presidiário: ...</td>\n",
              "      <td>FALSO</td>\n",
              "      <td>AOS FATOS</td>\n",
              "    </tr>\n",
              "    <tr>\n",
              "      <th>1</th>\n",
              "      <td>2</td>\n",
              "      <td>Empresa contratada pelo TSE para apuração dos ...</td>\n",
              "      <td>FALSO</td>\n",
              "      <td>AOS FATOS</td>\n",
              "    </tr>\n",
              "    <tr>\n",
              "      <th>2</th>\n",
              "      <td>3</td>\n",
              "      <td>O Aloizio Mercadante, ministro da Educação, mo...</td>\n",
              "      <td>FALSO</td>\n",
              "      <td>AOS FATOS</td>\n",
              "    </tr>\n",
              "    <tr>\n",
              "      <th>3</th>\n",
              "      <td>4</td>\n",
              "      <td>Há um complô espalhando fake news descaradas e...</td>\n",
              "      <td>FALSO</td>\n",
              "      <td>AOS FATOS</td>\n",
              "    </tr>\n",
              "    <tr>\n",
              "      <th>4</th>\n",
              "      <td>5</td>\n",
              "      <td>Somente em 2017, mais de 800 milhões de tonela...</td>\n",
              "      <td>VERDADE</td>\n",
              "      <td>AOS FATOS</td>\n",
              "    </tr>\n",
              "    <tr>\n",
              "      <th>5</th>\n",
              "      <td>6</td>\n",
              "      <td>Nunca vi o Lula pronunciar essa palavra fascis...</td>\n",
              "      <td>FALSO</td>\n",
              "      <td>AOS FATOS</td>\n",
              "    </tr>\n",
              "    <tr>\n",
              "      <th>6</th>\n",
              "      <td>7</td>\n",
              "      <td>O Mourão, por exemplo, foi ele próprio tortura...</td>\n",
              "      <td>FALSO</td>\n",
              "      <td>AOS FATOS</td>\n",
              "    </tr>\n",
              "    <tr>\n",
              "      <th>7</th>\n",
              "      <td>8</td>\n",
              "      <td>O PSB, todos os seus governadores e o seu pres...</td>\n",
              "      <td>FALSO</td>\n",
              "      <td>AOS FATOS</td>\n",
              "    </tr>\n",
              "    <tr>\n",
              "      <th>8</th>\n",
              "      <td>9</td>\n",
              "      <td>Bolsonaro Nunca aprovou um projeto de seguranç...</td>\n",
              "      <td>VERDADE</td>\n",
              "      <td>AOS FATOS</td>\n",
              "    </tr>\n",
              "    <tr>\n",
              "      <th>9</th>\n",
              "      <td>10</td>\n",
              "      <td>Ele Lula não pode aparecer mais que 25% no hor...</td>\n",
              "      <td>VERDADE</td>\n",
              "      <td>AOS FATOS</td>\n",
              "    </tr>\n",
              "  </tbody>\n",
              "</table>\n",
              "</div>"
            ],
            "text/plain": [
              "   id                                              texto   rotulo      fonte\n",
              "0   1  Salário Mínimo: R$ 950,00. Bolsa Presidiário: ...    FALSO  AOS FATOS\n",
              "1   2  Empresa contratada pelo TSE para apuração dos ...    FALSO  AOS FATOS\n",
              "2   3  O Aloizio Mercadante, ministro da Educação, mo...    FALSO  AOS FATOS\n",
              "3   4  Há um complô espalhando fake news descaradas e...    FALSO  AOS FATOS\n",
              "4   5  Somente em 2017, mais de 800 milhões de tonela...  VERDADE  AOS FATOS\n",
              "5   6  Nunca vi o Lula pronunciar essa palavra fascis...    FALSO  AOS FATOS\n",
              "6   7  O Mourão, por exemplo, foi ele próprio tortura...    FALSO  AOS FATOS\n",
              "7   8  O PSB, todos os seus governadores e o seu pres...    FALSO  AOS FATOS\n",
              "8   9  Bolsonaro Nunca aprovou um projeto de seguranç...  VERDADE  AOS FATOS\n",
              "9  10  Ele Lula não pode aparecer mais que 25% no hor...  VERDADE  AOS FATOS"
            ]
          },
          "metadata": {
            "tags": []
          },
          "execution_count": 5
        }
      ]
    },
    {
      "cell_type": "code",
      "metadata": {
        "id": "UttKuV9s6jSA",
        "colab_type": "code",
        "outputId": "25fbfaa8-c1ba-48c0-d293-aaa08a520121",
        "colab": {
          "base_uri": "https://localhost:8080/",
          "height": 255
        }
      },
      "source": [
        "#O texto do boato está com um traço (-) seguido do nome do candidato, então foi feita a separação\n",
        "news[[\"texto\", \"candidatos\"]] = news[\"texto\"].str.split(\" - \", expand=True)\n",
        "#Mas vale lembrar que nem todos os boatos estão atribuídos a algum candidato\n",
        "\n",
        "#\"Limpando\" os dados, substituindo quando há nomes diferentes para o mesmo candidato\n",
        "news['candidatos'] = news['candidatos'].replace(['Jair Bolsonaro'], 'Jair Bolsonaro (PSL)')\n",
        "news['candidatos'] = news['candidatos'].replace(['Fernando Haddad.', 'Fernando Haddad', 'Fernando Haddad '], 'Fernando Haddad (PT)')\n",
        "news['candidatos'] = news['candidatos'].replace(['Alvaro Dias (PODEMOS)', 'Alvaro Dias'], 'Alvaro Dias (Podemos)')\n",
        "news['candidatos'] = news['candidatos'].replace(['Marina Silva', 'Marina Rede (Rede)'], 'Marina Silva (Rede)')\n",
        "news['candidatos'] = news['candidatos'].replace(['Henrique Meirelles', 'Henrique Meireles (MDB)'], 'Henrique Meirelles (MDB)')\n",
        "\n",
        "#Selecionando apenas as fake news\n",
        "fakes = news.loc[news['rotulo'] == 'FALSO']\n",
        "\n",
        "#retirando aqueles que, no fim, não foram candidatos à presidência\n",
        "fakes = fakes.loc[fakes['candidatos'] != 'Jean Wyllys'] \n",
        "fakes = fakes.loc[fakes['candidatos'] != 'Manuela D’Ávila']\n",
        "print(fakes)"
      ],
      "execution_count": 6,
      "outputs": [
        {
          "output_type": "stream",
          "text": [
            "      id  ...            candidatos\n",
            "0      1  ...                  None\n",
            "1      2  ...                  None\n",
            "2      3  ...  Jair Bolsonaro (PSL)\n",
            "3      4  ...  Jair Bolsonaro (PSL)\n",
            "5      6  ...  Fernando Haddad (PT)\n",
            "..   ...  ...                   ...\n",
            "453  454  ...                  None\n",
            "454  455  ...                  None\n",
            "455  456  ...                  None\n",
            "457  458  ...  Jair Bolsonaro (PSL)\n",
            "458  459  ...  Jair Bolsonaro (PSL)\n",
            "\n",
            "[237 rows x 5 columns]\n"
          ],
          "name": "stdout"
        }
      ]
    },
    {
      "cell_type": "code",
      "metadata": {
        "id": "gnbvKFWEtPc3",
        "colab_type": "code",
        "colab": {
          "base_uri": "https://localhost:8080/",
          "height": 297
        },
        "outputId": "5525682b-24fe-4438-c4a9-43a0317fa179"
      },
      "source": [
        "#plotando um gráfico de barras com o pacote seaborn\n",
        "\n",
        "sns.countplot(hue='candidatos', x=\"rotulo\" , data = fakes)"
      ],
      "execution_count": 8,
      "outputs": [
        {
          "output_type": "execute_result",
          "data": {
            "text/plain": [
              "<matplotlib.axes._subplots.AxesSubplot at 0x7f087af6a9b0>"
            ]
          },
          "metadata": {
            "tags": []
          },
          "execution_count": 8
        },
        {
          "output_type": "display_data",
          "data": {
            "image/png": "[encoded data removed]",
            "text/plain": [
              "<Figure size 432x288 with 1 Axes>"
            ]
          },
          "metadata": {
            "tags": [],
            "needs_background": "light"
          }
        }
      ]
    }
  ]
}